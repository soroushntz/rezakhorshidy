


class triangle () :
    def __init__ (self, a=4, b=5, c=6):
        self.a=a
        self.b=b
        self.c=c
        if(a+b>c and a+c>b and b+c>a):
            print("triangle created")
        else:
            print("triangle is false")
    def perim(self):
        return self.a+self.b+self.c
    def Area(self):
        s=(self.a+self.b+self.c)/2
        return (s*(s-self.a)*(s-self.b)*(s-self.c))**0.5
    def is_triangle(self):
        if(self.a+self.b>self.c and self.a+self.c>self.b and self.b+self.c>self.a):
            return True
        else:
            return False
    def __del__ (self):
        print("triangle deleted")
        return -1
T=triangle(5,7,6)
print(T.perim() )
print(T.Area() )
del T
     
